{
 "cells": [
  {
   "cell_type": "code",
   "execution_count": 1,
   "metadata": {
    "colab": {},
    "colab_type": "code",
    "executionInfo": {
     "elapsed": 1978,
     "status": "ok",
     "timestamp": 1599947123049,
     "user": {
      "displayName": "Alex Ilgenfritz",
      "photoUrl": "https://lh3.googleusercontent.com/a-/AOh14Ggu5vHxEC24fzhdqjNXr-Eu2MCkniL0a3poRre9ZQ=s64",
      "userId": "13971401988893427814"
     },
     "user_tz": -540
    },
    "id": "tHCM_7FCvrHB"
   },
   "outputs": [],
   "source": [
    "import numpy as np"
   ]
  },
  {
   "cell_type": "code",
   "execution_count": 2,
   "metadata": {
    "colab": {},
    "colab_type": "code",
    "executionInfo": {
     "elapsed": 1206,
     "status": "ok",
     "timestamp": 1599947129284,
     "user": {
      "displayName": "Alex Ilgenfritz",
      "photoUrl": "https://lh3.googleusercontent.com/a-/AOh14Ggu5vHxEC24fzhdqjNXr-Eu2MCkniL0a3poRre9ZQ=s64",
      "userId": "13971401988893427814"
     },
     "user_tz": -540
    },
    "id": "xT6kMNTVK53J"
   },
   "outputs": [],
   "source": [
    "def compute_f_pos(d1_ref, d2_ref, H1, H2, ratio, f_ref):\n",
    "    \"\"\" \n",
    "    Compute camera focal length and camera position to achieve certain ratio\n",
    "    between objects\n",
    "\n",
    "    Input:\n",
    "    - d1_ref: distance of the first object\n",
    "    - d2_ref: distance of the second object\n",
    "    - H1: height of the first object in physical world\n",
    "    - H2: height of the second object in physical world\n",
    "    - ratio: ratio between two objects (h1/h2)\n",
    "    - f_ref: 1 by 1 double, previous camera focal length\n",
    "    Output:\n",
    "    - f: 1 by 1, camera focal length\n",
    "    - pos: 1 by 1, camera position\n",
    "    \"\"\"\n",
    "    pos = (H1*d2_ref-ratio*H2*d1_ref)/(H1-ratio*H2)\n",
    "    f = f_ref * (d1_ref-pos)/(d1_ref)\n",
    "\n",
    "    return f, pos"
   ]
  },
  {
   "cell_type": "code",
   "execution_count": 3,
   "metadata": {
    "colab": {
     "base_uri": "https://localhost:8080/",
     "height": 35
    },
    "colab_type": "code",
    "executionInfo": {
     "elapsed": 1952,
     "status": "ok",
     "timestamp": 1599947123051,
     "user": {
      "displayName": "Alex Ilgenfritz",
      "photoUrl": "https://lh3.googleusercontent.com/a-/AOh14Ggu5vHxEC24fzhdqjNXr-Eu2MCkniL0a3poRre9ZQ=s64",
      "userId": "13971401988893427814"
     },
     "user_tz": -540
    },
    "id": "RXh81YFjvF-y",
    "outputId": "7963f254-a37b-4522-c76a-82b94c3a0060"
   },
   "outputs": [
    {
     "name": "stdout",
     "output_type": "stream",
     "text": [
      "test passed\n"
     ]
    }
   ],
   "source": [
    "'''\n",
    "Test\n",
    "'''\n",
    "import numpy as np\n",
    "d1_ref = 4\n",
    "d2_ref = 20\n",
    "H1 = 4\n",
    "H2 = 6\n",
    "ratio = 2\n",
    "f_ref = 400\n",
    "f, pos = compute_f_pos( d1_ref, d2_ref, H1, H2, ratio, f_ref )\n",
    "assert type(f) == float, \"You gave wrong output type for focal length\"\n",
    "assert type(pos) == float, \"You gave wrong output type for position\"    \n",
    "assert np.isclose(f, 800), \"Your computation of the focal length is off. Hint: h1/h2 != H1/H2\"\n",
    "assert np.isclose(pos, -4), \"Your computation of the position is off. Hint: h1/h2 != H1/H2\"\n",
    "print('test passed')"
   ]
  },
  {
   "cell_type": "code",
   "execution_count": 4,
   "metadata": {
    "colab": {},
    "colab_type": "code",
    "executionInfo": {
     "elapsed": 1928,
     "status": "ok",
     "timestamp": 1599947123052,
     "user": {
      "displayName": "Alex Ilgenfritz",
      "photoUrl": "https://lh3.googleusercontent.com/a-/AOh14Ggu5vHxEC24fzhdqjNXr-Eu2MCkniL0a3poRre9ZQ=s64",
      "userId": "13971401988893427814"
     },
     "user_tz": -540
    },
    "id": "_rzIQ9mtRdh3"
   },
   "outputs": [],
   "source": [
    "d1_ref = 5 \n",
    "d2_ref = 2 \n",
    "H1 = 2 \n",
    "H2 = 1 \n",
    "ratio = H2 / H1 \n",
    "f_ref = 400 \n",
    "f, pos = compute_f_pos(d1_ref, d2_ref, H1, H2, ratio, f_ref)\n",
    "assert np.isclose(f, 320), \"Your computation of the focal length is off. Hint: h1/h2 != H1/H2\"\n",
    "assert np.isclose(pos, 1), \"Your computation of the position is off. Hint: h1/h2 != H1/H2\"\n"
   ]
  },
  {
   "cell_type": "code",
   "execution_count": 5,
   "metadata": {
    "colab": {},
    "colab_type": "code",
    "executionInfo": {
     "elapsed": 1915,
     "status": "ok",
     "timestamp": 1599947123053,
     "user": {
      "displayName": "Alex Ilgenfritz",
      "photoUrl": "https://lh3.googleusercontent.com/a-/AOh14Ggu5vHxEC24fzhdqjNXr-Eu2MCkniL0a3poRre9ZQ=s64",
      "userId": "13971401988893427814"
     },
     "user_tz": -540
    },
    "id": "D47c1oBjNCtE"
   },
   "outputs": [],
   "source": [
    "def compute_focal_length( d_ref, f_ref, pos ):\n",
    "    \"\"\"\n",
    "    compute camera focal length using given camera position\n",
    "\n",
    "    Input:\n",
    "    - d_ref: 1 by 1 double, distance of the object whose size remains constant\n",
    "    - f_ref: 1 by 1 double, previous camera focal length\n",
    "    - pos: 1 by n, each element represent camera center position on the z axis.\n",
    "    Output:\n",
    "    - f: 1 by n, camera focal length\n",
    "    \"\"\"\n",
    "    f = f_ref * (d_ref-pos)/(d_ref)\n",
    "    \n",
    "    return f"
   ]
  },
  {
   "cell_type": "code",
   "execution_count": 6,
   "metadata": {
    "colab": {
     "base_uri": "https://localhost:8080/",
     "height": 52
    },
    "colab_type": "code",
    "executionInfo": {
     "elapsed": 1904,
     "status": "ok",
     "timestamp": 1599947123054,
     "user": {
      "displayName": "Alex Ilgenfritz",
      "photoUrl": "https://lh3.googleusercontent.com/a-/AOh14Ggu5vHxEC24fzhdqjNXr-Eu2MCkniL0a3poRre9ZQ=s64",
      "userId": "13971401988893427814"
     },
     "user_tz": -540
    },
    "id": "NdnzrKkdvXPM",
    "outputId": "abfd7890-9148-4731-ed44-f4984211d5bf"
   },
   "outputs": [
    {
     "name": "stdout",
     "output_type": "stream",
     "text": [
      "900.0\n",
      "test passed\n"
     ]
    }
   ],
   "source": [
    "'''\n",
    "Test\n",
    "'''\n",
    "import numpy as np\n",
    "d_ref = 4\n",
    "f_ref = 400\n",
    "pos = -5\n",
    "f = compute_focal_length(d_ref, f_ref, pos)\n",
    "print(f)\n",
    "assert type(f) == float, \"You gave wrong output size.\"    \n",
    "assert np.isclose(f, 900), \"Your computation of the focal length is off.\"\n",
    "print('test passed')"
   ]
  },
  {
   "cell_type": "code",
   "execution_count": null,
   "metadata": {},
   "outputs": [],
   "source": []
  }
 ],
 "metadata": {
  "colab": {
   "collapsed_sections": [],
   "name": "DollyZoom submit.ipynb",
   "provenance": []
  },
  "kernelspec": {
   "display_name": "Python 3 (ipykernel)",
   "language": "python",
   "name": "python3"
  },
  "language_info": {
   "codemirror_mode": {
    "name": "ipython",
    "version": 3
   },
   "file_extension": ".py",
   "mimetype": "text/x-python",
   "name": "python",
   "nbconvert_exporter": "python",
   "pygments_lexer": "ipython3",
   "version": "3.8.13"
  }
 },
 "nbformat": 4,
 "nbformat_minor": 4
}
