{
 "cells": [
  {
   "cell_type": "markdown",
   "metadata": {},
   "source": [
    "# Project 1\n",
    "\n",
    "In addition to answering the bolded questions on Coursera, also attach your notebook, both as\n",
    "`.ipynb` and `.html`.\n",
    "\n",
    "In this assignment, we will be using PennGrader, a Python package built by a former TA for autograding Python notebooks. PennGrader was developed to provide students with instant feedback on their answer. You can submit your answer and know whether it's right or wrong instantly. We then record your most recent answer in our backend database. You will have 100 attempts per test case, which should be more than sufficient.\n",
    "\n",
    "<b>NOTE：Please remember to remove the </b>\n",
    "\n",
    "```python\n",
    "raise notImplementedError\n",
    "```\n",
    "<b>after your implementation, otherwise the cell will not compile.</b>"
   ]
  },
  {
   "cell_type": "markdown",
   "metadata": {},
   "source": [
    "## Getting Setup\n",
    "Please run the below cells to get setup with the autograder. If you need to install packages, please uncomment and try the following lines; if they do not work, please try running them in the terminal without the `!` sign."
   ]
  },
  {
   "cell_type": "code",
   "execution_count": 29,
   "metadata": {},
   "outputs": [],
   "source": [
    "# %%capture\n",
    "# !pip install penngrader --user\n",
    "# !pip install seaborn --user"
   ]
  },
  {
   "cell_type": "markdown",
   "metadata": {},
   "source": [
    "Let's try PennGrader out! Fill in the cell below with your PennID and then run the following cell to initialize the grader."
   ]
  },
  {
   "cell_type": "code",
   "execution_count": 30,
   "metadata": {},
   "outputs": [],
   "source": [
    "#PLEASE ENSURE YOUR STUDENT_ID IS ENTERED AS AN INT (NOT A STRING). IF NOT, THE AUTOGRADER WON'T KNOW WHO \n",
    "#TO ASSIGN POINTS TO YOU IN OUR BACKEND\n",
    "\n",
    "STUDENT_ID = 49731093                   # YOUR 8-DIGIT PENNID GOES HERE\n",
    "STUDENT_NAME = \"Newman Alexander Ilgenfritz\"     # YOUR FULL NAME GOES HERE"
   ]
  },
  {
   "cell_type": "code",
   "execution_count": 31,
   "metadata": {},
   "outputs": [],
   "source": [
    "import penngrader.grader\n",
    "\n",
    "grader = penngrader.grader.PennGrader(homework_id = 'ESE542_Online_Spring_2021_HW1', student_id = STUDENT_ID)"
   ]
  },
  {
   "cell_type": "markdown",
   "metadata": {},
   "source": [
    "## Imports\n",
    "\n",
    "It is important for all (or most) imports to go on the top of a notebook so that other users know which packages need to be installed. In projects that use Anaconda, it is also common to see a file named `requirements.txt` listing all the packages that one has to install."
   ]
  },
  {
   "cell_type": "markdown",
   "metadata": {},
   "source": [
    "1. First, import all the necessary modules using the import function. For this exercise, we will be mainly using `pandas`. In the future, we will also be using `numpy`, `seaborn`, and `matplotlib`. To learn more about these packages, you can read through the documentation: \n",
    "\n",
    "    - https://pandas.pydata.org/\n",
    "    - https://numpy.org/\n",
    "    - https://seaborn.pydata.org/\n",
    "    - https://matplotlib.org/"
   ]
  },
  {
   "cell_type": "code",
   "execution_count": 32,
   "metadata": {},
   "outputs": [],
   "source": [
    "# Let's import the relevant Python packages here\n",
    "# Feel free to import any other packages for this project\n",
    "\n",
    "import os\n",
    "import sys\n",
    "\n",
    "#Data Wrangling\n",
    "import numpy as np\n",
    "import pandas as pd\n",
    "\n",
    "#Plotting\n",
    "import matplotlib as mpl\n",
    "import matplotlib.pyplot as plt\n",
    "import seaborn as sns\n",
    "\n",
    "import csv\n",
    "\n",
    "%matplotlib inline\n",
    "\n",
    "import distutils\n",
    "from distutils import util\n"
   ]
  },
  {
   "cell_type": "markdown",
   "metadata": {},
   "source": [
    "## Data\n",
    "\n",
    "In the following exercise, we will familiarize ourselves with Python by studying the College\n",
    "dataset, which can be found in the file `College.csv`. This dataset contains the following variables\n",
    "from 777 different universities and colleges in the US:\n",
    "\n",
    "\n",
    "| Column | Description | \n",
    "|:-|:-|\n",
    "|Private | Public/private indicator|\n",
    "|Apps | Number of applications received|\n",
    "|Accept | Number of applicants accepted|\n",
    "|Enroll | Number of new students enrolled|\n",
    "|Top10perc | New students from top 10\\% of high school class|\n",
    "|Top25perc | New students from top 25\\% of high school class|\n",
    "|F.Undergrad | Number of full-time undergraduates|\n",
    "|P.Undergrad | Number of part-time undergraduates|\n",
    "|Outstate | Out-of-state tuition|\n",
    "|Room.Board | Room and board costs|\n",
    "|Books | Estimated book costs|\n",
    "|Personal | Estimated personal spending|\n",
    "|PhD | Percent of faculty with Ph.D.’s|\n",
    "|Terminal | Percent of faculty with terminal degree|\n",
    "|S.F.Ratio | Student/faculty ratio|\n",
    "|Perc.alumni | Percent of alumni who donate|\n",
    "|Expend | Instructional expenditure per student|\n",
    "|Grad.Rate | Graduation rate|"
   ]
  },
  {
   "cell_type": "markdown",
   "metadata": {},
   "source": [
    "2. Load the College dataset using `pandas`"
   ]
  },
  {
   "cell_type": "code",
   "execution_count": 33,
   "metadata": {},
   "outputs": [],
   "source": [
    "collegeDF = pd.read_csv('College.csv')"
   ]
  },
  {
   "cell_type": "markdown",
   "metadata": {},
   "source": [
    "3. Use the `head()` function to view the data. "
   ]
  },
  {
   "cell_type": "code",
   "execution_count": 34,
   "metadata": {
    "scrolled": false
   },
   "outputs": [
    {
     "name": "stdout",
     "output_type": "stream",
     "text": [
      "  Private  Apps  Accept  Enroll  Top10perc  Top25perc  F.Undergrad  \\\n",
      "0     Yes  1660    1232     721         23         52         2885   \n",
      "1     Yes  2186    1924     512         16         29         2683   \n",
      "2     Yes  1428    1097     336         22         50         1036   \n",
      "3     Yes   417     349     137         60         89          510   \n",
      "4     Yes   193     146      55         16         44          249   \n",
      "\n",
      "   P.Undergrad  Outstate  Room.Board  Books  Personal  PhD  Terminal  \\\n",
      "0          537      7440        3300    450      2200   70        78   \n",
      "1         1227     12280        6450    750      1500   29        30   \n",
      "2           99     11250        3750    400      1165   53        66   \n",
      "3           63     12960        5450    450       875   92        97   \n",
      "4          869      7560        4120    800      1500   76        72   \n",
      "\n",
      "   S.F.Ratio  perc.alumni  Expend  Grad.Rate                         Names  \n",
      "0       18.1           12    7041         60  Abilene Christian University  \n",
      "1       12.2           16   10527         56            Adelphi University  \n",
      "2       12.9           30    8735         54                Adrian College  \n",
      "3        7.7           37   19016         59           Agnes Scott College  \n",
      "4       11.9            2   10922         15     Alaska Pacific University   \n",
      "\n"
     ]
    }
   ],
   "source": [
    "print(collegeDF.head(), '\\n')"
   ]
  },
  {
   "cell_type": "markdown",
   "metadata": {},
   "source": [
    "4. Notice that there is a column ‘Names’ of each university’s name. As we don’t want to use these names as predictors, they are natural candidates to index our data. We can do this using the following function:\n",
    "\n",
    "```Python\n",
    "#college is the dataframe\n",
    "college.set_index('Names', inplace = True)```"
   ]
  },
  {
   "cell_type": "code",
   "execution_count": 35,
   "metadata": {},
   "outputs": [],
   "source": [
    "collegeDF.set_index (\"Names\", inplace = True )"
   ]
  },
  {
   "cell_type": "markdown",
   "metadata": {},
   "source": [
    "5. Use the `head()` function again. You should now see that the indices have been replaced with the name of each university in the data set. This means that Python has given each row a name corresponding to the appropriate university. Python will not try to perform calculations on the row names."
   ]
  },
  {
   "cell_type": "code",
   "execution_count": 36,
   "metadata": {},
   "outputs": [
    {
     "name": "stdout",
     "output_type": "stream",
     "text": [
      "df head:\n",
      "                             Private  Apps  Accept  Enroll  Top10perc  \\\n",
      "Names                                                                   \n",
      "Abilene Christian University     Yes  1660    1232     721         23   \n",
      "Adelphi University               Yes  2186    1924     512         16   \n",
      "Adrian College                   Yes  1428    1097     336         22   \n",
      "Agnes Scott College              Yes   417     349     137         60   \n",
      "Alaska Pacific University        Yes   193     146      55         16   \n",
      "\n",
      "                              Top25perc  F.Undergrad  P.Undergrad  Outstate  \\\n",
      "Names                                                                         \n",
      "Abilene Christian University         52         2885          537      7440   \n",
      "Adelphi University                   29         2683         1227     12280   \n",
      "Adrian College                       50         1036           99     11250   \n",
      "Agnes Scott College                  89          510           63     12960   \n",
      "Alaska Pacific University            44          249          869      7560   \n",
      "\n",
      "                              Room.Board  Books  Personal  PhD  Terminal  \\\n",
      "Names                                                                      \n",
      "Abilene Christian University        3300    450      2200   70        78   \n",
      "Adelphi University                  6450    750      1500   29        30   \n",
      "Adrian College                      3750    400      1165   53        66   \n",
      "Agnes Scott College                 5450    450       875   92        97   \n",
      "Alaska Pacific University           4120    800      1500   76        72   \n",
      "\n",
      "                              S.F.Ratio  perc.alumni  Expend  Grad.Rate  \n",
      "Names                                                                    \n",
      "Abilene Christian University       18.1           12    7041         60  \n",
      "Adelphi University                 12.2           16   10527         56  \n",
      "Adrian College                     12.9           30    8735         54  \n",
      "Agnes Scott College                 7.7           37   19016         59  \n",
      "Alaska Pacific University          11.9            2   10922         15   \n",
      "\n"
     ]
    }
   ],
   "source": [
    "print('df head:')    \n",
    "print(collegeDF.head(), '\\n')"
   ]
  },
  {
   "cell_type": "markdown",
   "metadata": {},
   "source": [
    "6. Use the `info()` function to check and produce a numerical summary of your variables."
   ]
  },
  {
   "cell_type": "code",
   "execution_count": 37,
   "metadata": {
    "scrolled": true,
    "tags": []
   },
   "outputs": [
    {
     "name": "stdout",
     "output_type": "stream",
     "text": [
      "df.info()\n",
      "<class 'pandas.core.frame.DataFrame'>\n",
      "Index: 777 entries, Abilene Christian University to York College of Pennsylvania\n",
      "Data columns (total 18 columns):\n",
      "Private        777 non-null object\n",
      "Apps           777 non-null int64\n",
      "Accept         777 non-null int64\n",
      "Enroll         777 non-null int64\n",
      "Top10perc      777 non-null int64\n",
      "Top25perc      777 non-null int64\n",
      "F.Undergrad    777 non-null int64\n",
      "P.Undergrad    777 non-null int64\n",
      "Outstate       777 non-null int64\n",
      "Room.Board     777 non-null int64\n",
      "Books          777 non-null int64\n",
      "Personal       777 non-null int64\n",
      "PhD            777 non-null int64\n",
      "Terminal       777 non-null int64\n",
      "S.F.Ratio      777 non-null float64\n",
      "perc.alumni    777 non-null int64\n",
      "Expend         777 non-null int64\n",
      "Grad.Rate      777 non-null int64\n",
      "dtypes: float64(1), int64(16), object(1)\n",
      "memory usage: 115.3+ KB\n",
      "None \n",
      "\n"
     ]
    }
   ],
   "source": [
    "print('df.info()')\n",
    "print(collegeDF.info(), '\\n')"
   ]
  },
  {
   "cell_type": "markdown",
   "metadata": {},
   "source": [
    "7. Examine if there are any duplicates and drop them if needed. Hint: It is perfectly fine to observe no duplicates in the dataset, but it is good practice to check anyhow. Before dropping duplicates, it is also good practice to check whether the duplicates contained any different data, since data entry errors frequently occur."
   ]
  },
  {
   "cell_type": "code",
   "execution_count": 38,
   "metadata": {
    "scrolled": true,
    "tags": []
   },
   "outputs": [
    {
     "name": "stdout",
     "output_type": "stream",
     "text": [
      "after dropping duplicate rows, df head:\n",
      "                             Private  Apps  Accept  Enroll  Top10perc  \\\n",
      "Names                                                                   \n",
      "Abilene Christian University     Yes  1660    1232     721         23   \n",
      "Adelphi University               Yes  2186    1924     512         16   \n",
      "Adrian College                   Yes  1428    1097     336         22   \n",
      "Agnes Scott College              Yes   417     349     137         60   \n",
      "Alaska Pacific University        Yes   193     146      55         16   \n",
      "\n",
      "                              Top25perc  F.Undergrad  P.Undergrad  Outstate  \\\n",
      "Names                                                                         \n",
      "Abilene Christian University         52         2885          537      7440   \n",
      "Adelphi University                   29         2683         1227     12280   \n",
      "Adrian College                       50         1036           99     11250   \n",
      "Agnes Scott College                  89          510           63     12960   \n",
      "Alaska Pacific University            44          249          869      7560   \n",
      "\n",
      "                              Room.Board  Books  Personal  PhD  Terminal  \\\n",
      "Names                                                                      \n",
      "Abilene Christian University        3300    450      2200   70        78   \n",
      "Adelphi University                  6450    750      1500   29        30   \n",
      "Adrian College                      3750    400      1165   53        66   \n",
      "Agnes Scott College                 5450    450       875   92        97   \n",
      "Alaska Pacific University           4120    800      1500   76        72   \n",
      "\n",
      "                              S.F.Ratio  perc.alumni  Expend  Grad.Rate  \n",
      "Names                                                                    \n",
      "Abilene Christian University       18.1           12    7041         60  \n",
      "Adelphi University                 12.2           16   10527         56  \n",
      "Adrian College                     12.9           30    8735         54  \n",
      "Agnes Scott College                 7.7           37   19016         59  \n",
      "Alaska Pacific University          11.9            2   10922         15   \n",
      "\n",
      "after dropping duplicate rows, df.info()\n",
      "<class 'pandas.core.frame.DataFrame'>\n",
      "Index: 777 entries, Abilene Christian University to York College of Pennsylvania\n",
      "Data columns (total 18 columns):\n",
      "Private        777 non-null object\n",
      "Apps           777 non-null int64\n",
      "Accept         777 non-null int64\n",
      "Enroll         777 non-null int64\n",
      "Top10perc      777 non-null int64\n",
      "Top25perc      777 non-null int64\n",
      "F.Undergrad    777 non-null int64\n",
      "P.Undergrad    777 non-null int64\n",
      "Outstate       777 non-null int64\n",
      "Room.Board     777 non-null int64\n",
      "Books          777 non-null int64\n",
      "Personal       777 non-null int64\n",
      "PhD            777 non-null int64\n",
      "Terminal       777 non-null int64\n",
      "S.F.Ratio      777 non-null float64\n",
      "perc.alumni    777 non-null int64\n",
      "Expend         777 non-null int64\n",
      "Grad.Rate      777 non-null int64\n",
      "dtypes: float64(1), int64(16), object(1)\n",
      "memory usage: 115.3+ KB\n",
      "None \n",
      "\n"
     ]
    }
   ],
   "source": [
    "collegeDF.drop_duplicates(keep = False, inplace = True)\n",
    "print('after dropping duplicate rows, df head:')    \n",
    "print(collegeDF.head(), '\\n')\n",
    "print('after dropping duplicate rows, df.info()')\n",
    "print(collegeDF.info(), '\\n')"
   ]
  },
  {
   "cell_type": "markdown",
   "metadata": {},
   "source": [
    "8. Remove instances where there is no value for the ‘Apps’ column, if any, and replace them with 0. This dataframe will henceforth be our original dataframe. Hint: Na means no value, NaN means Not a Number. It is perfectly fine if there are no Na's in our dataset, but we should always check just in case."
   ]
  },
  {
   "cell_type": "code",
   "execution_count": 39,
   "metadata": {},
   "outputs": [
    {
     "name": "stdout",
     "output_type": "stream",
     "text": [
      "detect missing data in \"Apps\" column:\n",
      "                                Private   Apps  Accept  Enroll  Top10perc  \\\n",
      "Names                                                                       \n",
      "Abilene Christian University      False  False   False   False      False   \n",
      "Adelphi University                False  False   False   False      False   \n",
      "Adrian College                    False  False   False   False      False   \n",
      "Agnes Scott College               False  False   False   False      False   \n",
      "Alaska Pacific University         False  False   False   False      False   \n",
      "...                                 ...    ...     ...     ...        ...   \n",
      "Worcester State College           False  False   False   False      False   \n",
      "Xavier University                 False  False   False   False      False   \n",
      "Xavier University of Louisiana    False  False   False   False      False   \n",
      "Yale University                   False  False   False   False      False   \n",
      "York College of Pennsylvania      False  False   False   False      False   \n",
      "\n",
      "                                Top25perc  F.Undergrad  P.Undergrad  Outstate  \\\n",
      "Names                                                                           \n",
      "Abilene Christian University        False        False        False     False   \n",
      "Adelphi University                  False        False        False     False   \n",
      "Adrian College                      False        False        False     False   \n",
      "Agnes Scott College                 False        False        False     False   \n",
      "Alaska Pacific University           False        False        False     False   \n",
      "...                                   ...          ...          ...       ...   \n",
      "Worcester State College             False        False        False     False   \n",
      "Xavier University                   False        False        False     False   \n",
      "Xavier University of Louisiana      False        False        False     False   \n",
      "Yale University                     False        False        False     False   \n",
      "York College of Pennsylvania        False        False        False     False   \n",
      "\n",
      "                                Room.Board  Books  Personal    PhD  Terminal  \\\n",
      "Names                                                                          \n",
      "Abilene Christian University         False  False     False  False     False   \n",
      "Adelphi University                   False  False     False  False     False   \n",
      "Adrian College                       False  False     False  False     False   \n",
      "Agnes Scott College                  False  False     False  False     False   \n",
      "Alaska Pacific University            False  False     False  False     False   \n",
      "...                                    ...    ...       ...    ...       ...   \n",
      "Worcester State College              False  False     False  False     False   \n",
      "Xavier University                    False  False     False  False     False   \n",
      "Xavier University of Louisiana       False  False     False  False     False   \n",
      "Yale University                      False  False     False  False     False   \n",
      "York College of Pennsylvania         False  False     False  False     False   \n",
      "\n",
      "                                S.F.Ratio  perc.alumni  Expend  Grad.Rate  \n",
      "Names                                                                      \n",
      "Abilene Christian University        False        False   False      False  \n",
      "Adelphi University                  False        False   False      False  \n",
      "Adrian College                      False        False   False      False  \n",
      "Agnes Scott College                 False        False   False      False  \n",
      "Alaska Pacific University           False        False   False      False  \n",
      "...                                   ...          ...     ...        ...  \n",
      "Worcester State College             False        False   False      False  \n",
      "Xavier University                   False        False   False      False  \n",
      "Xavier University of Louisiana      False        False   False      False  \n",
      "Yale University                     False        False   False      False  \n",
      "York College of Pennsylvania        False        False   False      False  \n",
      "\n",
      "[777 rows x 18 columns] \n",
      "\n"
     ]
    }
   ],
   "source": [
    "print('detect missing data in \"Apps\" column:')\n",
    "print(collegeDF.isnull(), '\\n')\n",
    "# replacing any missing data in Apps column with 0:\n",
    "collegeDF['Apps'] = collegeDF['Apps'].fillna(0)"
   ]
  },
  {
   "cell_type": "markdown",
   "metadata": {},
   "source": [
    "9. Find the college with the least out-of-state tuition and name this variable `college_least_tuition`. The variable should return the name of a college, not its tuition. <b>Answer on Coursera: Which college in this dataset has the least amount of out-of-state tuition?</b>"
   ]
  },
  {
   "cell_type": "code",
   "execution_count": 40,
   "metadata": {
    "scrolled": false,
    "tags": []
   },
   "outputs": [
    {
     "name": "stdout",
     "output_type": "stream",
     "text": [
      "college_least_tuition, minimum value of column \"Outstate\":  2340 \n",
      "\n",
      "                                  Private  Apps  Accept  Enroll  Top10perc  \\\n",
      "Names                                                                        \n",
      "Brigham Young University at Provo     Yes  7365    5402    4615         48   \n",
      "\n",
      "                                   Top25perc  F.Undergrad  P.Undergrad  \\\n",
      "Names                                                                    \n",
      "Brigham Young University at Provo         82        27378         1253   \n",
      "\n",
      "                                   Outstate  Room.Board  Books  Personal  PhD  \\\n",
      "Names                                                                           \n",
      "Brigham Young University at Provo      2340        3580    860      1220   76   \n",
      "\n",
      "                                   Terminal  S.F.Ratio  perc.alumni  Expend  \\\n",
      "Names                                                                         \n",
      "Brigham Young University at Provo        76       20.5           40    7916   \n",
      "\n",
      "                                   Grad.Rate  \n",
      "Names                                         \n",
      "Brigham Young University at Provo         33  \n",
      "type:  <class 'pandas.core.frame.DataFrame'>\n",
      "indx:  Brigham Young University at Provo\n",
      "Brigham Young University at Provo\n"
     ]
    }
   ],
   "source": [
    "college_least_tuitionVal = collegeDF['Outstate'].min()\n",
    "print('college_least_tuition, minimum value of column \"Outstate\": ',college_least_tuitionVal, '\\n')\n",
    "   \n",
    "x  = collegeDF.loc[collegeDF['Outstate'] == college_least_tuitionVal]\n",
    "print(x)\n",
    "print('type: ', type(x))\n",
    "indx = x.index\n",
    "print('indx: ', indx[0])\n",
    "college_least_tuition = indx[0]\n",
    "print(college_least_tuition)"
   ]
  },
  {
   "cell_type": "code",
   "execution_count": 41,
   "metadata": {
    "deletable": false
   },
   "outputs": [
    {
     "name": "stdout",
     "output_type": "stream",
     "text": [
      "Correct! You earned 3/3 points. You are a star!\n",
      "\n",
      "Your submission has been successfully recorded in the gradebook.\n"
     ]
    }
   ],
   "source": [
    "grader.grade(test_case_id = 'college_least_tuition_test', answer = college_least_tuition)"
   ]
  },
  {
   "cell_type": "markdown",
   "metadata": {},
   "source": [
    "10. From the original dataframe, select the ‘PhD’ column and name this dataframe `phd_column`. Find the length of this column and name this variable `phd_column_length`. <b>Enter the value of phd_column_length on Coursera.</b> Hint: Make sure to use double brackets to select a Pandas dataframe and single brackets to select a Pandas series. You will notice the difference in formatting: Pandas dataframes are neatly formatted, while Pandas series are not formatted. A Pandas dataframe gives extra functionality compared to a Pandas series, such as appending other dataframes and selecting multiple columns. A Pandas series is essentially a Numpy column. "
   ]
  },
  {
   "cell_type": "code",
   "execution_count": 42,
   "metadata": {
    "scrolled": true
   },
   "outputs": [
    {
     "data": {
      "text/html": [
       "<div>\n",
       "<style scoped>\n",
       "    .dataframe tbody tr th:only-of-type {\n",
       "        vertical-align: middle;\n",
       "    }\n",
       "\n",
       "    .dataframe tbody tr th {\n",
       "        vertical-align: top;\n",
       "    }\n",
       "\n",
       "    .dataframe thead th {\n",
       "        text-align: right;\n",
       "    }\n",
       "</style>\n",
       "<table border=\"1\" class=\"dataframe\">\n",
       "  <thead>\n",
       "    <tr style=\"text-align: right;\">\n",
       "      <th></th>\n",
       "      <th>PhD</th>\n",
       "    </tr>\n",
       "    <tr>\n",
       "      <th>Names</th>\n",
       "      <th></th>\n",
       "    </tr>\n",
       "  </thead>\n",
       "  <tbody>\n",
       "    <tr>\n",
       "      <th>Abilene Christian University</th>\n",
       "      <td>70</td>\n",
       "    </tr>\n",
       "    <tr>\n",
       "      <th>Adelphi University</th>\n",
       "      <td>29</td>\n",
       "    </tr>\n",
       "    <tr>\n",
       "      <th>Adrian College</th>\n",
       "      <td>53</td>\n",
       "    </tr>\n",
       "    <tr>\n",
       "      <th>Agnes Scott College</th>\n",
       "      <td>92</td>\n",
       "    </tr>\n",
       "    <tr>\n",
       "      <th>Alaska Pacific University</th>\n",
       "      <td>76</td>\n",
       "    </tr>\n",
       "    <tr>\n",
       "      <th>...</th>\n",
       "      <td>...</td>\n",
       "    </tr>\n",
       "    <tr>\n",
       "      <th>Worcester State College</th>\n",
       "      <td>60</td>\n",
       "    </tr>\n",
       "    <tr>\n",
       "      <th>Xavier University</th>\n",
       "      <td>73</td>\n",
       "    </tr>\n",
       "    <tr>\n",
       "      <th>Xavier University of Louisiana</th>\n",
       "      <td>67</td>\n",
       "    </tr>\n",
       "    <tr>\n",
       "      <th>Yale University</th>\n",
       "      <td>96</td>\n",
       "    </tr>\n",
       "    <tr>\n",
       "      <th>York College of Pennsylvania</th>\n",
       "      <td>75</td>\n",
       "    </tr>\n",
       "  </tbody>\n",
       "</table>\n",
       "<p>777 rows × 1 columns</p>\n",
       "</div>"
      ],
      "text/plain": [
       "                                PhD\n",
       "Names                              \n",
       "Abilene Christian University     70\n",
       "Adelphi University               29\n",
       "Adrian College                   53\n",
       "Agnes Scott College              92\n",
       "Alaska Pacific University        76\n",
       "...                             ...\n",
       "Worcester State College          60\n",
       "Xavier University                73\n",
       "Xavier University of Louisiana   67\n",
       "Yale University                  96\n",
       "York College of Pennsylvania     75\n",
       "\n",
       "[777 rows x 1 columns]"
      ]
     },
     "execution_count": 42,
     "metadata": {},
     "output_type": "execute_result"
    }
   ],
   "source": [
    "# Double bracket for dataframe\n",
    "phd_column = collegeDF[[\"PhD\"]].copy()\n",
    "phd_column"
   ]
  },
  {
   "cell_type": "code",
   "execution_count": 44,
   "metadata": {
    "deletable": false
   },
   "outputs": [
    {
     "name": "stdout",
     "output_type": "stream",
     "text": [
      "Correct! You earned 3/3 points. You are a star!\n",
      "\n",
      "Your submission has been successfully recorded in the gradebook.\n"
     ]
    }
   ],
   "source": [
    "grader.grade(test_case_id = 'phd_column_test', answer = phd_column)"
   ]
  },
  {
   "cell_type": "code",
   "execution_count": 43,
   "metadata": {
    "tags": []
   },
   "outputs": [
    {
     "name": "stdout",
     "output_type": "stream",
     "text": [
      "777\n"
     ]
    }
   ],
   "source": [
    "phd_column_length = len(phd_column.index)\n",
    "print(phd_column_length)"
   ]
  },
  {
   "cell_type": "code",
   "execution_count": 46,
   "metadata": {
    "deletable": false
   },
   "outputs": [
    {
     "name": "stdout",
     "output_type": "stream",
     "text": [
      "Correct! You earned 1/1 points. You are a star!\n",
      "\n",
      "Your submission has been successfully recorded in the gradebook.\n"
     ]
    }
   ],
   "source": [
    "grader.grade(test_case_id = 'phd_column_length_test', answer = phd_column_length)"
   ]
  },
  {
   "cell_type": "markdown",
   "metadata": {},
   "source": [
    "11. From the original dataframe, select both the ‘Private’ and ‘Top10perc’ columns, and slice them such that only the rows with index 15 and 16 remain. Name this dataframe `private_top10`. From this dataframe, find the length of the filtered ‘Private’ column and name this variable `private_column_length`. <b>Enter the value of private_column_length on Coursera.</b>"
   ]
  },
  {
   "cell_type": "code",
   "execution_count": 47,
   "metadata": {},
   "outputs": [],
   "source": [
    "# Double bracket to obtain multiple columns\n",
    "private_top10 =  collegeDF[['Private', 'Top10perc']].copy()\n",
    "private_top10 =  private_top10[15:17 ]"
   ]
  },
  {
   "cell_type": "code",
   "execution_count": 48,
   "metadata": {
    "deletable": false
   },
   "outputs": [
    {
     "name": "stdout",
     "output_type": "stream",
     "text": [
      "Correct! You earned 3/3 points. You are a star!\n",
      "\n",
      "Your submission has been successfully recorded in the gradebook.\n"
     ]
    }
   ],
   "source": [
    "grader.grade(test_case_id = 'private_top_10_test', answer = private_top10)"
   ]
  },
  {
   "cell_type": "code",
   "execution_count": 49,
   "metadata": {
    "scrolled": true,
    "tags": []
   },
   "outputs": [
    {
     "name": "stdout",
     "output_type": "stream",
     "text": [
      "2\n"
     ]
    }
   ],
   "source": [
    "private_column_length = len(private_top10.index)\n",
    "print(private_column_length)"
   ]
  },
  {
   "cell_type": "code",
   "execution_count": 50,
   "metadata": {
    "deletable": false
   },
   "outputs": [
    {
     "name": "stdout",
     "output_type": "stream",
     "text": [
      "Correct! You earned 2/2 points. You are a star!\n",
      "\n",
      "Your submission has been successfully recorded in the gradebook.\n"
     ]
    }
   ],
   "source": [
    "grader.grade(test_case_id = 'private_column_length_test', answer = private_column_length)"
   ]
  },
  {
   "cell_type": "markdown",
   "metadata": {},
   "source": [
    "12. From the original dataframe, select the row that only contains data about the “University of Pennsylvania”. Note that many other colleges share the same name, but there is only one unique University of Pennsylvania. Name this dataframe `penn`."
   ]
  },
  {
   "cell_type": "code",
   "execution_count": 51,
   "metadata": {
    "scrolled": true
   },
   "outputs": [],
   "source": [
    "ndxs = collegeDF.index\n",
    "ndx = list(ndxs).index(\"University of Pennsylvania\")\n",
    "penn = collegeDF.iloc[[ndx]]"
   ]
  },
  {
   "cell_type": "code",
   "execution_count": 52,
   "metadata": {
    "deletable": false
   },
   "outputs": [
    {
     "name": "stdout",
     "output_type": "stream",
     "text": [
      "Correct! You earned 4/4 points. You are a star!\n",
      "\n",
      "Your submission has been successfully recorded in the gradebook.\n"
     ]
    }
   ],
   "source": [
    "grader.grade(test_case_id = 'penn_test', answer = penn)"
   ]
  },
  {
   "cell_type": "markdown",
   "metadata": {},
   "source": [
    "13. From the original dataframe, select the rows that contain all colleges with the name “Penn” included. The “P” should be capitalized. Name this dataframe `many_penns`. Comment on your observations. <b>Answer on Coursera: How many universities are there in this dataset that include “Penn”? </b>"
   ]
  },
  {
   "cell_type": "code",
   "execution_count": 53,
   "metadata": {
    "scrolled": false
   },
   "outputs": [],
   "source": [
    "subString = \"Penn\"\n",
    "subList = [stng for stng in list(ndxs) if subString in stng]\n",
    "many_penns = collegeDF.loc[subList]"
   ]
  },
  {
   "cell_type": "code",
   "execution_count": 54,
   "metadata": {
    "deletable": false
   },
   "outputs": [
    {
     "name": "stdout",
     "output_type": "stream",
     "text": [
      "Correct! You earned 4/4 points. You are a star!\n",
      "\n",
      "Your submission has been successfully recorded in the gradebook.\n"
     ]
    }
   ],
   "source": [
    "grader.grade(test_case_id = 'many_penns_test', answer = many_penns)"
   ]
  },
  {
   "cell_type": "markdown",
   "metadata": {},
   "source": [
    "*Continue to explore the dataset by using any of the skills you learned in Recitation 1. Keep this notebook in a location that is easily accessible, as we will continue with it for the next assignment.*"
   ]
  }
 ],
 "metadata": {
  "kernelspec": {
   "display_name": "Python 3",
   "language": "python",
   "name": "python3"
  },
  "language_info": {
   "codemirror_mode": {
    "name": "ipython",
    "version": 3
   },
   "file_extension": ".py",
   "mimetype": "text/x-python",
   "name": "python",
   "nbconvert_exporter": "python",
   "pygments_lexer": "ipython3",
   "version": "3.6.8"
  }
 },
 "nbformat": 4,
 "nbformat_minor": 2
}
